{
  "cells": [
    {
      "cell_type": "markdown",
      "source": [
        "## Exercise 2: Use Gradient Boost for Regression\n",
        "\n",
        "Instructions:\n",
        "\n",
        "- Use the Dataset File to train your model\n",
        "- Use the Test File to generate your results\n",
        "- Use the Sample Submission file to generate the same format\n",
        "Submit your results to:\n",
        "https://www.kaggle.com/competitions/playground-series-s4e12/overview\n",
        "\n"
      ],
      "metadata": {
        "id": "99_2rPCJrNfK"
      }
    },
    {
      "cell_type": "code",
      "source": [
        "import pandas as pd\n",
        "from xgboost import XGBRegressor\n",
        "from sklearn.model_selection import train_test_split\n",
        "from sklearn.pipeline import Pipeline\n",
        "from sklearn.preprocessing import OneHotEncoder\n",
        "from sklearn.compose import ColumnTransformer\n",
        "from sklearn.metrics import mean_squared_error, r2_score\n",
        "from sklearn.impute import SimpleImputer\n",
        "from sklearn.model_selection import GridSearchCV"
      ],
      "metadata": {
        "id": "MU6-CAMEjoRp"
      },
      "execution_count": 30,
      "outputs": []
    },
    {
      "cell_type": "markdown",
      "metadata": {
        "id": "eCNNEXIhftVN"
      },
      "source": [
        "## Dataset\n",
        "Train, test and sample submission file can be found in this link\n",
        "https://www.kaggle.com/competitions/playground-series-s4e12/data"
      ]
    },
    {
      "cell_type": "markdown",
      "source": [
        "## 1. Load the Data"
      ],
      "metadata": {
        "id": "rjhN8ODcVYxH"
      }
    },
    {
      "cell_type": "code",
      "source": [
        "# put your answer here\n",
        "train_data = pd.read_csv(\"train.csv\")\n",
        "test_data = pd.read_csv(\"test.csv\")"
      ],
      "metadata": {
        "id": "tEcU-yJmVZwR"
      },
      "execution_count": 31,
      "outputs": []
    },
    {
      "cell_type": "code",
      "source": [
        "print(\"Train Data Head:\")\n",
        "print(train_data.head())\n",
        "print(\"Test Data Head:\")\n",
        "print(test_data.head())"
      ],
      "metadata": {
        "colab": {
          "base_uri": "https://localhost:8080/"
        },
        "id": "2FQyCY-0jwnB",
        "outputId": "7a62289c-c7db-4b6d-e69a-f29021fed860"
      },
      "execution_count": 32,
      "outputs": [
        {
          "output_type": "stream",
          "name": "stdout",
          "text": [
            "Train Data Head:\n",
            "   id   Age  Gender  Annual Income Marital Status  Number of Dependents  \\\n",
            "0   0  19.0  Female        10049.0        Married                   1.0   \n",
            "1   1  39.0  Female        31678.0       Divorced                   3.0   \n",
            "2   2  23.0    Male        25602.0       Divorced                   3.0   \n",
            "3   3  21.0    Male       141855.0        Married                   2.0   \n",
            "4   4  21.0    Male        39651.0         Single                   1.0   \n",
            "\n",
            "  Education Level     Occupation  Health Score  Location  ... Previous Claims  \\\n",
            "0      Bachelor's  Self-Employed     22.598761     Urban  ...             2.0   \n",
            "1        Master's            NaN     15.569731     Rural  ...             1.0   \n",
            "2     High School  Self-Employed     47.177549  Suburban  ...             1.0   \n",
            "3      Bachelor's            NaN     10.938144     Rural  ...             1.0   \n",
            "4      Bachelor's  Self-Employed     20.376094     Rural  ...             0.0   \n",
            "\n",
            "   Vehicle Age  Credit Score  Insurance Duration           Policy Start Date  \\\n",
            "0         17.0         372.0                 5.0  2023-12-23 15:21:39.134960   \n",
            "1         12.0         694.0                 2.0  2023-06-12 15:21:39.111551   \n",
            "2         14.0           NaN                 3.0  2023-09-30 15:21:39.221386   \n",
            "3          0.0         367.0                 1.0  2024-06-12 15:21:39.226954   \n",
            "4          8.0         598.0                 4.0  2021-12-01 15:21:39.252145   \n",
            "\n",
            "  Customer Feedback Smoking Status Exercise Frequency Property Type  \\\n",
            "0              Poor             No             Weekly         House   \n",
            "1           Average            Yes            Monthly         House   \n",
            "2              Good            Yes             Weekly         House   \n",
            "3              Poor            Yes              Daily     Apartment   \n",
            "4              Poor            Yes             Weekly         House   \n",
            "\n",
            "  Premium Amount  \n",
            "0         2869.0  \n",
            "1         1483.0  \n",
            "2          567.0  \n",
            "3          765.0  \n",
            "4         2022.0  \n",
            "\n",
            "[5 rows x 21 columns]\n",
            "Test Data Head:\n",
            "        id   Age  Gender  Annual Income Marital Status  Number of Dependents  \\\n",
            "0  1200000  28.0  Female         2310.0            NaN                   4.0   \n",
            "1  1200001  31.0  Female       126031.0        Married                   2.0   \n",
            "2  1200002  47.0  Female        17092.0       Divorced                   0.0   \n",
            "3  1200003  28.0  Female        30424.0       Divorced                   3.0   \n",
            "4  1200004  24.0    Male        10863.0       Divorced                   2.0   \n",
            "\n",
            "  Education Level     Occupation  Health Score  Location    Policy Type  \\\n",
            "0      Bachelor's  Self-Employed      7.657981     Rural          Basic   \n",
            "1        Master's  Self-Employed     13.381379  Suburban        Premium   \n",
            "2             PhD     Unemployed     24.354527     Urban  Comprehensive   \n",
            "3             PhD  Self-Employed      5.136225  Suburban  Comprehensive   \n",
            "4     High School     Unemployed     11.844155  Suburban        Premium   \n",
            "\n",
            "   Previous Claims  Vehicle Age  Credit Score  Insurance Duration  \\\n",
            "0              NaN         19.0           NaN                 1.0   \n",
            "1              NaN         14.0         372.0                 8.0   \n",
            "2              NaN         16.0         819.0                 9.0   \n",
            "3              1.0          3.0         770.0                 5.0   \n",
            "4              NaN         14.0         755.0                 7.0   \n",
            "\n",
            "            Policy Start Date Customer Feedback Smoking Status  \\\n",
            "0  2023-06-04 15:21:39.245086              Poor            Yes   \n",
            "1  2024-04-22 15:21:39.224915              Good            Yes   \n",
            "2  2023-04-05 15:21:39.134960           Average            Yes   \n",
            "3  2023-10-25 15:21:39.134960              Poor            Yes   \n",
            "4  2021-11-26 15:21:39.259788           Average             No   \n",
            "\n",
            "  Exercise Frequency Property Type  \n",
            "0             Weekly         House  \n",
            "1             Rarely     Apartment  \n",
            "2            Monthly         Condo  \n",
            "3              Daily         House  \n",
            "4             Weekly         House  \n"
          ]
        }
      ]
    },
    {
      "cell_type": "code",
      "source": [
        "for col in train_data.columns:\n",
        "    if col in test_data.columns:\n",
        "        if train_data[col].dtype in [\"float64\", \"int64\"]:\n",
        "            train_data[col] = train_data[col].fillna(0)\n",
        "            test_data[col] = test_data[col].fillna(0)\n",
        "        elif train_data[col].dtype == \"object\":\n",
        "            train_data[col] = train_data[col].fillna(\"missing\")\n",
        "            test_data[col] = test_data[col].fillna(\"missing\")\n",
        "    else:\n",
        "        print(f\"Column '{col}' not found in test_data. Skipping\")"
      ],
      "metadata": {
        "colab": {
          "base_uri": "https://localhost:8080/"
        },
        "id": "-eGuIUFevrNl",
        "outputId": "97f2970a-d564-41af-eda8-8dcbdda147f5"
      },
      "execution_count": 33,
      "outputs": [
        {
          "output_type": "stream",
          "name": "stdout",
          "text": [
            "Column 'Premium Amount' not found in test_data. Skipping\n"
          ]
        }
      ]
    },
    {
      "cell_type": "markdown",
      "source": [
        "## 2. Perform Data preprocessing"
      ],
      "metadata": {
        "id": "GlMLKDF_rvUM"
      }
    },
    {
      "cell_type": "code",
      "source": [
        "target_column = \"Premium Amount\"\n",
        "X = train_data.drop(columns=[target_column, 'id', 'Group', 'Year', 'Month', 'Day', 'Week'], errors='ignore')\n",
        "y = train_data[target_column]"
      ],
      "metadata": {
        "id": "Zzdas173kcpY"
      },
      "execution_count": 34,
      "outputs": []
    },
    {
      "cell_type": "code",
      "source": [
        "categorical_features = X.select_dtypes(include=[\"object\"]).columns.tolist()\n",
        "numerical_features = X.select_dtypes(include=[\"float64\", \"int64\"]).columns.tolist()"
      ],
      "metadata": {
        "id": "RIvL3fgqkok4"
      },
      "execution_count": 35,
      "outputs": []
    },
    {
      "cell_type": "code",
      "source": [
        "preprocessor = ColumnTransformer(\n",
        "    transformers=[\n",
        "        (\"cat\", OneHotEncoder(handle_unknown=\"ignore\"), categorical_features),\n",
        "    ],\n",
        "    remainder=\"passthrough\"  # Keeps the numerical columns untouched\n",
        ")"
      ],
      "metadata": {
        "id": "0MJX8VBysFxR"
      },
      "execution_count": 36,
      "outputs": []
    },
    {
      "cell_type": "markdown",
      "source": [
        "## 3. Create a Pipeline"
      ],
      "metadata": {
        "id": "u-z7RFsxWLHM"
      }
    },
    {
      "cell_type": "code",
      "source": [
        "xgb_model = XGBRegressor(\n",
        "    n_estimators=500,\n",
        "    max_depth=4,\n",
        "    learning_rate=0.01,\n",
        "    random_state=42,\n",
        ")"
      ],
      "metadata": {
        "id": "ZzV1BNOEhFBc"
      },
      "execution_count": 37,
      "outputs": []
    },
    {
      "cell_type": "code",
      "source": [
        "pipeline = Pipeline(\n",
        "    steps=[\n",
        "        (\"preprocessor\", preprocessor),\n",
        "        (\"regressor\", xgb_model),\n",
        "    ]\n",
        ")"
      ],
      "metadata": {
        "id": "PuJFYWuSWNvB"
      },
      "execution_count": 38,
      "outputs": []
    },
    {
      "cell_type": "markdown",
      "source": [
        "## 4. Train the Model"
      ],
      "metadata": {
        "id": "8n-ScOLqze60"
      }
    },
    {
      "cell_type": "code",
      "source": [
        "# put your answer here\n",
        "X_train, X_val, y_train, y_val = train_test_split(X, y, test_size=0.2, random_state=42)"
      ],
      "metadata": {
        "id": "fqLNJkoHzfL4"
      },
      "execution_count": 39,
      "outputs": []
    },
    {
      "cell_type": "code",
      "source": [
        "pipeline.fit(X_train, y_train)\n",
        "\n",
        "# Predict on the validation set\n",
        "y_val_pred = pipeline.predict(X_val)"
      ],
      "metadata": {
        "id": "GthrQ62ah4dT"
      },
      "execution_count": 40,
      "outputs": []
    },
    {
      "cell_type": "markdown",
      "source": [
        "## 5. Evaluate the Model"
      ],
      "metadata": {
        "id": "IkAsAi29WiDq"
      }
    },
    {
      "cell_type": "code",
      "source": [
        "# put your answer here\n",
        "val_rmse = mean_squared_error(y_val, y_val_pred, squared=False)\n",
        "print(f\"Validation RMSE: {val_rmse:.4f}\")"
      ],
      "metadata": {
        "id": "8L0zJYBfWiVX",
        "colab": {
          "base_uri": "https://localhost:8080/"
        },
        "outputId": "298bdd56-f363-42ea-ba2e-43ce632742f3"
      },
      "execution_count": 41,
      "outputs": [
        {
          "output_type": "stream",
          "name": "stdout",
          "text": [
            "Validation RMSE: 847.2163\n"
          ]
        },
        {
          "output_type": "stream",
          "name": "stderr",
          "text": [
            "/usr/local/lib/python3.10/dist-packages/sklearn/metrics/_regression.py:492: FutureWarning: 'squared' is deprecated in version 1.4 and will be removed in 1.6. To calculate the root mean squared error, use the function'root_mean_squared_error'.\n",
            "  warnings.warn(\n"
          ]
        }
      ]
    },
    {
      "cell_type": "markdown",
      "source": [
        "## Generate Submission File\n",
        "\n",
        "Choose the model that has the best performance to generate a submission file."
      ],
      "metadata": {
        "id": "a6UAAMyepmHi"
      }
    },
    {
      "cell_type": "code",
      "source": [
        "test_features = test_data.drop(columns=['id', 'Group', 'Year', 'Month', 'Day', 'Week'], errors='ignore')\n",
        "test_predictions = pipeline.predict(test_features)\n",
        "\n",
        "submission_df = pd.DataFrame({\n",
        "    \"id\": test_data[\"id\"],\n",
        "    \"Premium Amount\": test_predictions,\n",
        "})\n",
        "\n",
        "submission_df.to_csv(\"submission_file.csv\", index=False)\n",
        "print(\"Submission file created: submission_file.csv\")"
      ],
      "metadata": {
        "id": "HrelEEFJpjzI",
        "colab": {
          "base_uri": "https://localhost:8080/"
        },
        "outputId": "0c509021-66e7-477e-9dac-80ff4e348fba"
      },
      "execution_count": 42,
      "outputs": [
        {
          "output_type": "stream",
          "name": "stdout",
          "text": [
            "Submission file created: submission_file.csv\n"
          ]
        }
      ]
    }
  ],
  "metadata": {
    "colab": {
      "provenance": [],
      "gpuType": "T4"
    },
    "kernelspec": {
      "display_name": "Python 3",
      "name": "python3"
    },
    "language_info": {
      "name": "python",
      "version": "3.12.4"
    },
    "accelerator": "GPU"
  },
  "nbformat": 4,
  "nbformat_minor": 0
}