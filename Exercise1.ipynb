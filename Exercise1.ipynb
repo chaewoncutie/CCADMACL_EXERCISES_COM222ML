{
  "nbformat": 4,
  "nbformat_minor": 0,
  "metadata": {
    "colab": {
      "provenance": [],
      "include_colab_link": true
    },
    "kernelspec": {
      "name": "python3",
      "display_name": "Python 3"
    },
    "language_info": {
      "name": "python"
    }
  },
  "cells": [
    {
      "cell_type": "markdown",
      "metadata": {
        "id": "view-in-github",
        "colab_type": "text"
      },
      "source": [
        "<a href=\"https://colab.research.google.com/github/chaewoncutie/CCADMACL_EXERCISES_COM222ML/blob/main/Exercise1.ipynb\" target=\"_parent\"><img src=\"https://colab.research.google.com/assets/colab-badge.svg\" alt=\"Open In Colab\"/></a>"
      ]
    },
    {
      "cell_type": "markdown",
      "source": [
        "# Exercise 1\n",
        "\n",
        "Use all feature selection methods to find the best features"
      ],
      "metadata": {
        "id": "wyguhJBCREPq"
      }
    },
    {
      "cell_type": "markdown",
      "source": [
        "## Dataset Information\n",
        "\n",
        "## Features\n",
        "\n",
        "Number of Instances: 20640\n",
        "\n",
        "Number of Attributes: 8 numeric, predictive attributes and the target\n",
        "\n",
        "Attribute Information:\n",
        "\n",
        "MedInc - median income in block group\n",
        "\n",
        "HouseAge - median house age in block group\n",
        "\n",
        "AveRooms - average number of rooms per household\n",
        "\n",
        "AveBedrms - average number of bedrooms per household\n",
        "\n",
        "Population - block group population\n",
        "\n",
        "AveOccup - average number of household members\n",
        "\n",
        "Latitude - block group latitude\n",
        "\n",
        "Longitude - block group longitude\n",
        "\n",
        "## Target\n",
        "The target variable is the median house value for California districts, expressed in hundreds of thousands of dollars ($100,000)."
      ],
      "metadata": {
        "id": "W1nEzxdXQbpH"
      }
    },
    {
      "cell_type": "markdown",
      "source": [],
      "metadata": {
        "id": "9bCNDCzrfiMF"
      }
    },
    {
      "cell_type": "code",
      "execution_count": 141,
      "metadata": {
        "id": "ZAVjjtJ9PVED"
      },
      "outputs": [],
      "source": [
        "from sklearn.datasets import fetch_california_housing\n",
        "from sklearn.feature_selection import SelectKBest, f_regression, SequentialFeatureSelector\n",
        "from sklearn.tree import DecisionTreeRegressor\n",
        "from sklearn.linear_model import LinearRegression\n",
        "from sklearn.model_selection import train_test_split\n",
        "from sklearn.metrics import mean_squared_error\n",
        "import numpy as np\n",
        "import pandas as pd"
      ]
    },
    {
      "cell_type": "code",
      "source": [
        "housing = fetch_california_housing(as_frame=True)\n",
        "df = pd.concat([housing.data, housing.target], axis=1)"
      ],
      "metadata": {
        "id": "N12mwL2GPX48"
      },
      "execution_count": 142,
      "outputs": []
    },
    {
      "cell_type": "code",
      "source": [
        "df_house = fetch_california_housing()\n",
        "df_house_features = pd.DataFrame(df_house.data, columns=df_house.feature_names)\n",
        "df_house_target = pd.DataFrame(df_house.target, columns=['target'])"
      ],
      "metadata": {
        "id": "ZOY1HHWVzaIv"
      },
      "execution_count": 143,
      "outputs": []
    },
    {
      "cell_type": "code",
      "source": [
        "X = df.drop('MedHouseVal', axis=1)\n",
        "y = df['MedHouseVal']"
      ],
      "metadata": {
        "id": "j4eyupfr0cfH"
      },
      "execution_count": 144,
      "outputs": []
    },
    {
      "cell_type": "markdown",
      "source": [
        "1. Use any filter method to select the best features"
      ],
      "metadata": {
        "id": "6tqvZqTtRgRe"
      }
    },
    {
      "cell_type": "code",
      "source": [
        "# put your answer here\n",
        "threshold = 5\n",
        "skb = SelectKBest(score_func=f_regression, k=threshold)\n",
        "sel_skb = skb.fit(X, y)\n",
        "sel_skb_index = sel_skb.get_support()\n",
        "df_skb = X.iloc[:, sel_skb_index]\n",
        "selected_features_filter = df_skb.columns.tolist()\n",
        "print(\"Selected Features using SelectKBest:\", selected_features_filter)"
      ],
      "metadata": {
        "colab": {
          "base_uri": "https://localhost:8080/"
        },
        "id": "LBqxLEyvc2DQ",
        "outputId": "df3f6c0f-cfd0-4614-a5f3-cccd9b30f7a7"
      },
      "execution_count": 145,
      "outputs": [
        {
          "output_type": "stream",
          "name": "stdout",
          "text": [
            "Selected Features using SelectKBest: ['MedInc', 'HouseAge', 'AveRooms', 'AveBedrms', 'Latitude']\n"
          ]
        }
      ]
    },
    {
      "cell_type": "markdown",
      "source": [
        "2. Use any wrapper method to select the best features"
      ],
      "metadata": {
        "id": "eZ5kAdM7RpDD"
      }
    },
    {
      "cell_type": "code",
      "source": [
        "# put your answer here\n",
        "threshold = 5\n",
        "wrapper_model = LinearRegression()\n",
        "sfs = SequentialFeatureSelector(wrapper_model, n_features_to_select=threshold, direction='forward')\n",
        "sel_sfs = sfs.fit(df.iloc[:, :-1], df['MedHouseVal'])\n",
        "sel_sfs_index = sel_sfs.get_support()\n",
        "df_sfs = df.iloc[:, :-1].iloc[:, sel_sfs_index]\n",
        "selected_features_wrapper = df_sfs.columns.tolist()\n",
        "print(\"Selected Features using Sequential Feature Selector:\", selected_features_wrapper)"
      ],
      "metadata": {
        "colab": {
          "base_uri": "https://localhost:8080/"
        },
        "id": "rV1FqVwWe5vu",
        "outputId": "5a98f5a9-d533-4fde-e889-72ac1352af5d"
      },
      "execution_count": 146,
      "outputs": [
        {
          "output_type": "stream",
          "name": "stdout",
          "text": [
            "Selected Features using Sequential Feature Selector: ['MedInc', 'HouseAge', 'AveRooms', 'AveBedrms', 'Population']\n"
          ]
        }
      ]
    },
    {
      "cell_type": "markdown",
      "source": [
        "3. Use any embedded methood to select the best features"
      ],
      "metadata": {
        "id": "Kq82AZxvRvTe"
      }
    },
    {
      "cell_type": "code",
      "source": [
        "# put your answer here\n",
        "X = df.drop('MedHouseVal', axis=1)\n",
        "y = df['MedHouseVal']\n",
        "X_train, X_test, y_train, y_test = train_test_split(X, y, test_size=0.3, random_state=42)\n",
        "\n",
        "tree = DecisionTreeRegressor(random_state=42)\n",
        "tree.fit(X_train, y_train)\n",
        "\n",
        "feature_importances = tree.feature_importances_\n",
        "sel_tree_index = feature_importances > 0.01\n",
        "df_tree = X_train.iloc[:, sel_tree_index]\n",
        "selected_features_embedded = df_tree.columns.tolist()\n",
        "print(\"Selected Features using Decision Tree:\", selected_features_embedded)"
      ],
      "metadata": {
        "id": "-S8OQahTRyTM",
        "colab": {
          "base_uri": "https://localhost:8080/"
        },
        "outputId": "0b0cb9ef-dca7-4504-c3b0-a2e59ecfaa4f"
      },
      "execution_count": 147,
      "outputs": [
        {
          "output_type": "stream",
          "name": "stdout",
          "text": [
            "Selected Features using Decision Tree: ['MedInc', 'HouseAge', 'AveRooms', 'AveBedrms', 'Population', 'AveOccup', 'Latitude', 'Longitude']\n"
          ]
        }
      ]
    },
    {
      "cell_type": "code",
      "source": [
        "def compute_rmse(model, X_train, X_test, y_train, y_test):\n",
        "    model.fit(X_train, y_train)\n",
        "    y_pred_test = model.predict(X_test)\n",
        "    rmse = np.sqrt(mean_squared_error(y_test, y_pred_test))\n",
        "    return rmse\n",
        "\n",
        "default_rmse = compute_rmse(wrapper_model, X_train, X_test, y_train, y_test)\n",
        "\n",
        "X_train_filter = skb.transform(X_train)\n",
        "X_test_filter = skb.transform(X_test)\n",
        "filter_rmse = compute_rmse(wrapper_model, X_train_filter, X_test_filter, y_train, y_test)\n",
        "\n",
        "X_train_wrapper = X_train[selected_features_wrapper]\n",
        "X_test_wrapper = X_test[selected_features_wrapper]\n",
        "wrapper_rmse = compute_rmse(wrapper_model, X_train_wrapper, X_test_wrapper, y_train, y_test)\n",
        "\n",
        "X_train_embedded = X_train[selected_features_embedded]\n",
        "X_test_embedded = X_test[selected_features_embedded]\n",
        "embedded_rmse = compute_rmse(wrapper_model, X_train_embedded, X_test_embedded, y_train, y_test)\n",
        "\n",
        "print(\"Model RMSE:\")\n",
        "print(\"Default RMSE:\", default_rmse)\n",
        "print(\"Filter Method RMSE:\", filter_rmse)\n",
        "print(\"Wrapper Method RMSE:\", wrapper_rmse)\n",
        "print(\"Embedded Method RMSE:\", embedded_rmse)"
      ],
      "metadata": {
        "colab": {
          "base_uri": "https://localhost:8080/"
        },
        "id": "QDsKrNhgk1Eo",
        "outputId": "97f767d7-5920-4a0d-a970-cfaa978e894f"
      },
      "execution_count": 148,
      "outputs": [
        {
          "output_type": "stream",
          "name": "stdout",
          "text": [
            "Model RMSE:\n",
            "Default RMSE: 0.7284008391515456\n",
            "Filter Method RMSE: 0.7826494475622022\n",
            "Wrapper Method RMSE: 0.7859647054435119\n",
            "Embedded Method RMSE: 0.7284008391515456\n"
          ]
        }
      ]
    }
  ]
}